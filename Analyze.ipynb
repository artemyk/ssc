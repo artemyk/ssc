{
 "cells": [
  {
   "cell_type": "code",
   "execution_count": null,
   "metadata": {
    "collapsed": true
   },
   "outputs": [],
   "source": [
    "%matplotlib inline\n",
    "import matplotlib.pyplot as plt\n",
    "import os\n",
    "import re\n",
    "import numpy as np\n",
    "from loaddata import get_data\n",
    "\n",
    "def load_model(modelname):\n",
    "    import os\n",
    "    os.environ[\"THEANO_FLAGS\"] = \"device=cpu\"\n",
    "    from keras.models import model_from_json\n",
    "    from trainrnn import TDD, SimpleRNNTDD\n",
    "    with open('%s.json'%modelname) as f:\n",
    "        src = f.read()\n",
    "        model = model_from_json(src, custom_objects=dict(TDD=TDD, SimpleRNNTDD=SimpleRNNTDD))\n",
    "    model.load_weights('%s_weights.h5' % modelname)\n",
    "    return model\n",
    "\n",
    "\n",
    "def copymodel(model):\n",
    "    import keras.models\n",
    "    newmodel = keras.models.model_from_yaml(model.to_yaml()) \n",
    "    # copy the model (model_from_yaml() should compile() according to source code)\n",
    "    wts=model.get_weights()\n",
    "    newmodel.set_weights(wts)\n",
    "    return newmodel\n",
    "\n"
   ]
  },
  {
   "cell_type": "code",
   "execution_count": null,
   "metadata": {
    "collapsed": false
   },
   "outputs": [],
   "source": [
    "trajs, trajs_trn, observable = get_data()\n",
    "mean_pred_var = (trajs - trajs.mean(axis=0)).var()\n",
    "print trajs.shape"
   ]
  },
  {
   "cell_type": "code",
   "execution_count": null,
   "metadata": {
    "collapsed": false
   },
   "outputs": [],
   "source": [
    "SEP = '**********************'\n",
    "\n",
    "from collections import defaultdict, OrderedDict\n",
    "perfdict_byarch = defaultdict(OrderedDict)\n",
    "perfdict_bydims = defaultdict(OrderedDict)\n",
    "BASEDIR='out_loss'\n",
    "allfiles =  sorted(os.listdir(BASEDIR))\n",
    "#allfiles = ['small_stacked_longtrain.txt', ]\n",
    "#allfiles = ['reg_final.txt',]\n",
    "for fname in allfiles:\n",
    "    print \"Doing\", fname\n",
    "    with open(BASEDIR + '/' + fname) as f:\n",
    "        s = f.read().split(SEP)\n",
    "        for sndx in range(1,len(s)):\n",
    "            clines = s[sndx].strip().split(\"\\n\")\n",
    "            \n",
    "            specs = clines[0].replace('DOING ','').split(\", \")\n",
    "            if len(specs) == 2:\n",
    "                arch, dims, reg = specs[0], specs[1], 0\n",
    "            else:\n",
    "                arch, dims, reg = specs\n",
    "                arch += '_' + str(reg)\n",
    "            val_loss = map(float, re.findall(r'val_loss: ([.0-9]+)', s[sndx]))\n",
    "            if not val_loss:\n",
    "                continue\n",
    "                \n",
    "            loss = np.array(map(float, re.findall(r' loss: ([.0-9]+)', s[sndx])))\n",
    "            best_loss_ndx = np.argsort(loss)[0]\n",
    "            modelnames = re.findall(r'saving model to (.*)_weights.h5', s[sndx])\n",
    "            if not len(modelnames):\n",
    "                modelname = clines[-1].replace('Saving ', '')\n",
    "            else:\n",
    "                modelname = modelnames[0]\n",
    "                \n",
    "            if dims in perfdict_byarch[arch]:\n",
    "                cdims = dims\n",
    "                ndx = 2\n",
    "                while cdims in perfdict_byarch[arch]:\n",
    "                    cdims = dims + '_v%d'%ndx\n",
    "                    ndx += 1\n",
    "                dims = cdims\n",
    "            minloss = np.array(val_loss)[best_loss_ndx]\n",
    "            print \"- %20s / %10s (minloss:%0.5f, minall:%0.5f)\" % (arch, dims, minloss, min(val_loss)), modelname\n",
    "            cdict = dict(perf=np.array(val_loss), \n",
    "                         trainperf=np.array(loss), \n",
    "                         modelname=modelname,\n",
    "                         bestlossperf=minloss)\n",
    "            perfdict_byarch[arch][dims] = cdict\n",
    "            perfdict_bydims[dims][arch] = cdict\n",
    "            \n",
    "perfdict_byarch = dict(perfdict_byarch.items())\n",
    "perfdict_bydims = dict(perfdict_bydims.items())"
   ]
  },
  {
   "cell_type": "code",
   "execution_count": null,
   "metadata": {
    "collapsed": false
   },
   "outputs": [],
   "source": [
    "# Correlation between validation and training loss\n",
    "\n",
    "if False:\n",
    "    for k, v in perfdict_byarch.items():\n",
    "        for k2, v2 in v.items():\n",
    "            plt.figure()\n",
    "            p=v2['perf']\n",
    "            tp=v2['trainperf']\n",
    "            ndxs = p<np.median(p)\n",
    "            plt.scatter( tp[ndxs], p[ndxs] , marker='.')\n",
    "            plt.xlabel('val')\n",
    "            plt.ylabel('train')\n",
    "            plt.title('%s-%s'%(k, k2))        \n",
    "        "
   ]
  },
  {
   "cell_type": "code",
   "execution_count": null,
   "metadata": {
    "collapsed": false,
    "scrolled": false
   },
   "outputs": [],
   "source": [
    "with plt.style.context('ggplot'):\n",
    "    for perfdict in (perfdict_byarch, perfdict_bydims):\n",
    "        fig = plt.figure(figsize=(8,3*len(perfdict)))\n",
    "        for ndx, k1 in enumerate(sorted(perfdict.keys())):\n",
    "            plt.subplot(len(perfdict),1,  ndx+1 )\n",
    "            for k2, v in perfdict[k1].items():\n",
    "                vals = v['perf']\n",
    "                plt.plot(vals, label=k2) # plt.plot(perfdict.values()[0])\n",
    "            mlen = max(len(v['perf']) for v in perfdict[k1].values())\n",
    "            #mlen= 200\n",
    "            plt.xlim([0, mlen])\n",
    "            plt.plot(np.zeros(mlen) + mean_pred_var, 'k--', label='Mean')\n",
    "            plt.gca().legend(loc='right', bbox_to_anchor=(1.5, .5) )\n",
    "            plt.title(k1)\n",
    "del perfdict\n"
   ]
  },
  {
   "cell_type": "code",
   "execution_count": null,
   "metadata": {
    "collapsed": false
   },
   "outputs": [],
   "source": [
    "cmodel = perfdict_byarch['arch=rnn2_reg=0']['dims=700']\n",
    "cmodelname = cmodel['modelname']\n",
    "model = load_model(cmodelname)"
   ]
  },
  {
   "cell_type": "code",
   "execution_count": null,
   "metadata": {
    "collapsed": false
   },
   "outputs": [],
   "source": [
    "trajs_tst       = trajs[int(0.9*len(trajs)):]\n",
    "observable_tst  = observable[int(0.9*len(trajs)):]\n",
    "all_predictions = model.predict(trajs_tst)\n",
    "#all_predictions = trajs.mean(axis=0)[None,:,:]\n",
    "\n",
    "print (observable_tst - all_predictions).var()\n",
    "errs = ((observable_tst - all_predictions)**2).mean(axis=2).mean(axis=0)\n",
    "with plt.style.context('ggplot'):\n",
    "    plt.plot(errs)\n",
    "    plt.ylim([0, 1.3*plt.ylim()[1]])\n",
    "\n",
    "print \"Mean error: %0.5f\" % errs.mean()\n",
    "print \"Reported  : %0.5f\" % cmodel['bestlossperf']"
   ]
  },
  {
   "cell_type": "code",
   "execution_count": null,
   "metadata": {
    "collapsed": false
   },
   "outputs": [],
   "source": [
    "SHOW_NUM_PERTS = 5\n",
    "plt.figure(figsize=(14,5*SHOW_NUM_PERTS))\n",
    "\n",
    "for sampndx, sampnumber in enumerate(np.random.choice(len(observable_tst), SHOW_NUM_PERTS)):\n",
    "    plt.subplot(SHOW_NUM_PERTS,2,sampndx*2+1)\n",
    "\n",
    "    vmax = observable_tst[sampnumber].max() * 1.2\n",
    "    plt.imshow(observable_tst[sampnumber], vmin=0, vmax=vmax, cmap='jet_r', interpolation='none',aspect='auto')\n",
    "    plt.colorbar()\n",
    "    plt.title('Actual (pert %d)' % sampnumber)\n",
    "\n",
    "    plt.subplot(SHOW_NUM_PERTS,2,sampndx*2+2)\n",
    "    pred_in = trajs_tst[sampnumber].copy()[None,:,:].copy()\n",
    "    pred_in[:,1:,:] = 0.\n",
    "    pred_out = model.predict(pred_in)\n",
    "    plt.imshow(pred_out[0], vmin=0, vmax=vmax, cmap='jet_r', interpolation='none',aspect='auto')\n",
    "    plt.colorbar()\n",
    "    plt.title('Predicted (pert %d)' % sampnumber)\n",
    "    \n",
    "    #print sampndx, sampnumber, (observable_tst[sampnumber] - pred_out).var()\n"
   ]
  },
  {
   "cell_type": "code",
   "execution_count": null,
   "metadata": {
    "collapsed": false
   },
   "outputs": [],
   "source": [
    "SHOW_NUM_VARS = 10\n",
    "sz = int(np.sqrt(SHOW_NUM_VARS)+1)\n",
    "plt.figure(figsize=(4*sz, 4*sz))\n",
    "timendx = -1\n",
    "#timendx = 3\n",
    "mostvariedndxs = np.argsort(observable_tst[:,-1,:].var(axis=0))\n",
    "for ndx in range(SHOW_NUM_VARS):\n",
    "    plt.subplot(sz,sz,ndx+1)\n",
    "    mostvaried=mostvariedndxs[-1-ndx]\n",
    "    \n",
    "    plt.scatter(observable_tst[:,timendx,mostvaried], all_predictions[:,timendx,mostvaried], 1, 'k')\n",
    "    corr = np.corrcoef(observable_tst[:,timendx,mostvaried], all_predictions[:,timendx,mostvaried])[0,1]\n",
    "    plt.gca().annotate('c=%0.3f'%corr, xy=(0.1, 0.9), xycoords='axes fraction')\n",
    "    plt.xlabel('Reality')\n",
    "    plt.axis('square')\n",
    "    minlim = min(plt.xlim()[0],plt.ylim()[0])\n",
    "    maxlim = min(plt.xlim()[1],plt.ylim()[1])\n",
    "    plt.xlim([minlim, maxlim])\n",
    "    plt.ylim([minlim, maxlim])\n",
    "    plt.hold('on')\n",
    "    plt.plot([minlim,maxlim],[minlim,maxlim], '--')\n",
    "    plt.ylabel('Prediction')\n",
    "plt.tight_layout()"
   ]
  },
  {
   "cell_type": "markdown",
   "metadata": {},
   "source": [
    "# Performance vs. accuracy"
   ]
  },
  {
   "cell_type": "code",
   "execution_count": null,
   "metadata": {
    "collapsed": false,
    "scrolled": false
   },
   "outputs": [],
   "source": [
    "def plot_perf_dict(perf_dict, do_logscale=True):\n",
    "    import matplotlib.cm as cm\n",
    "    import matplotlib\n",
    "    import seaborn as sns\n",
    "    with plt.style.context('seaborn-whitegrid', after_reset=True):\n",
    "        sns.set(font_scale=4)\n",
    "        colors = cm.rainbow(np.linspace(0, 1, len(perf_dict)))\n",
    "        for ndx, (k,v) in enumerate(perf_dict.iteritems()):\n",
    "            plt.scatter(v[0], v[1], s=150, c=colors[ndx], label=k, edgecolors='none')\n",
    "\n",
    "        #plt.plot(plt.xlim(), [mean_pred_var,mean_pred_var], 'k--', label='Mean')\n",
    "        plt.gca().legend(loc='right', bbox_to_anchor=(1.65, .5) )\n",
    "        if do_logscale:\n",
    "            plt.gca().set_xscale(\"log\", nonposx='clip')\n",
    "\n",
    "        #plt.title(\"Performance vs. Accuracy\")\n",
    "        plt.xlabel('Operations/step')\n",
    "        plt.ylabel('Error')\n",
    "\n",
    "carch = 'rnn2_reg=0' # rnn4_stacked'\n",
    "#carch = 'rnn4'\n",
    "complex_perf_dict = OrderedDict()\n",
    "fulldims = trajs.shape[2]\n",
    "complex_perf_dict['Actual'] = (fulldims**3, 0)\n",
    "for k,v  in perfdict_byarch['arch=%s'%carch].iteritems():\n",
    "    dims = int(k.split(\"=\")[1].split(\"_\")[0])\n",
    "    perf = v['bestlossperf']\n",
    "    complex_perf_dict[k] = (dims**2, perf)\n",
    "    \n",
    "plt.figure(figsize=(10,10))\n",
    "plot_perf_dict(complex_perf_dict)"
   ]
  },
  {
   "cell_type": "markdown",
   "metadata": {},
   "source": [
    "# L1 performance-accuracy tradeoff"
   ]
  },
  {
   "cell_type": "code",
   "execution_count": null,
   "metadata": {
    "collapsed": false
   },
   "outputs": [],
   "source": [
    "reg_models = perfdict_byarch.keys()\n",
    "\n",
    "scaling = {}\n",
    "best_scaling = {}\n",
    "ALL_CUTOFFS = [3e-2, 2e-2, 1e-2, 7.5e-3, 5e-3, 2.5e-3, 1e-3, ]\n",
    "err_cutoff = 0.95\n",
    "for r in reg_models:\n",
    "    \n",
    "    if r[-5:] == 'reg=0': #  or r[-9:] == 'reg=4e-06':\n",
    "        continue\n",
    "        \n",
    "    cmodel = perfdict_byarch[r]['dims=500']\n",
    "    lasterr = cmodel['bestlossperf']\n",
    "    print \"Reported  : %0.5f (%s)\" % (lasterr, r)\n",
    "    \n",
    "    cmodelname = cmodel['modelname']\n",
    "    cmodelobj = load_model(cmodelname)\n",
    "    weights = cmodelobj.layers[1].get_weights()\n",
    "    origmx = weights[1]\n",
    "    \n",
    "    \n",
    "    for cutoff in sorted(ALL_CUTOFFS):\n",
    "        mx = origmx.copy()\n",
    "        mx[np.abs(mx) < cutoff] = 0.0\n",
    "        weights[1] = mx\n",
    "        cmodelobj.layers[1].set_weights(weights)\n",
    "\n",
    "        nnz = np.sum(~np.isclose(mx, 0))\n",
    "        #scaling[(r,cutoff)] = (nnz, lasterr)\n",
    "        #continue\n",
    "\n",
    "        all_predictions = cmodelobj.predict(trajs[int(0.9*len(trajs)):])\n",
    "        err = ((observable[int(0.9*len(trajs)):] - all_predictions)**2).mean()\n",
    "\n",
    "        print \"Mean error: %0.5f\" % err, ' ratio: %0.3f' % (lasterr/err), 'nnz:', nnz, ' tot:', mx.shape[0]*mx.shape[1], ' cutoff=', cutoff\n",
    "            \n",
    "        scaling[(r,cutoff)] = (nnz, err)\n",
    "        if lasterr/err > err_cutoff:\n",
    "            print \"  Saving to best scaling\"\n",
    "            best_scaling[r] = (nnz, err)\n",
    "    print "
   ]
  },
  {
   "cell_type": "code",
   "execution_count": null,
   "metadata": {
    "collapsed": false
   },
   "outputs": [],
   "source": [
    "if False:\n",
    "    \"\"\"\n",
    "    perfdict = {}\n",
    "    for k,v in scaling.iteritems():\n",
    "        #print k[1]\n",
    "        if k[1]==0.005:\n",
    "            perfdict[k[0].split(\"=\")[2]] = v\n",
    "    \"\"\"\n",
    "    #d1=complex_perf_dict.copy()\n",
    "    #del d1['full']\n",
    "    d1=OrderedDict(Actual=complex_perf_dict['Actual'])\n",
    "    d1.update(best_scaling)\n",
    "    print best_scaling\n",
    "    plt.figure(figsize=(10,10))\n",
    "    plot_perf_dict(d1)\n",
    "    plt.ylim([-0.02,0.06])"
   ]
  },
  {
   "cell_type": "code",
   "execution_count": null,
   "metadata": {
    "collapsed": false
   },
   "outputs": [],
   "source": [
    "\"\"\"\n",
    "perfdict = {}\n",
    "for k,v in scaling.iteritems():\n",
    "    #print k[1]\n",
    "    if k[0][-5:] == 'reg=0':\n",
    "        continue\n",
    "    if k[1]==0.01:\n",
    "        perfdict[k[0].split(\"=\")[2]] = v\n",
    "        \n",
    "\"\"\"\n",
    "perfdict=best_scaling\n",
    "\n",
    "do_logscale=True\n",
    "plt.figure(figsize=(10,10))\n",
    "import matplotlib.cm as cm\n",
    "import matplotlib\n",
    "import seaborn as sns\n",
    "with plt.style.context('seaborn-whitegrid', after_reset=True):\n",
    "    sns.set(font_scale=4)\n",
    "    #colors = cm.rainbow(np.linspace(0, 1, len(perf_dict)))\n",
    "    cdict = complex_perf_dict.copy()\n",
    "    actual = cdict['Actual']\n",
    "    del cdict['Actual']\n",
    "    xs, ys = zip(*cdict.values())\n",
    "    plt.plot(xs, ys, linestyle='None', marker='o', mew=0, markersize=13, color='red', label='Dimensionality')\n",
    "    for d, (x, y) in cdict.items():\n",
    "        txt = d.replace('dims=','d=')\n",
    "        plt.text(x*1.3, y, txt, fontsize=20, va='center')\n",
    "    \n",
    "    xs, ys = zip(*perfdict.values())\n",
    "    plt.plot(xs, ys, linestyle='None', marker='+', mew=3, markersize=20, color='blue', label='Comp cost penalty')\n",
    "\n",
    "    plt.plot([actual[0],], [actual[1],], linestyle='None', marker='*', mew=2, markersize=20, color='k', label='Full model')\n",
    "    \n",
    "    #plt.plot(plt.xlim(), [mean_pred_var,mean_pred_var], 'k--', label='Mean')\n",
    "    plt.gca().legend(loc='right', bbox_to_anchor=(1.9, .5) )\n",
    "    if do_logscale:\n",
    "        plt.gca().set_xscale(\"log\", nonposx='clip')\n",
    "    plt.xlim([1e2, plt.xlim()[1]*10])\n",
    "    plt.ylim([-.005, 0.05])\n",
    "    #plt.title(\"Performance vs. Accuracy\")\n",
    "    plt.xlabel('Operations/step')\n",
    "    plt.ylabel('Error')\n",
    "\n"
   ]
  },
  {
   "cell_type": "markdown",
   "metadata": {},
   "source": [
    "# Goal directed"
   ]
  },
  {
   "cell_type": "code",
   "execution_count": null,
   "metadata": {
    "collapsed": false
   },
   "outputs": [],
   "source": [
    "print perfdict_byarch.keys()\n",
    "#perfdict_byarch['arch=rnn4']['dims=50']\n",
    "m1   = load_model(perfdict_byarch['arch=rnn2_reg=0']['dims=50']['modelname'])\n",
    "m1v2 = load_model(perfdict_byarch['arch=rnn2_reg=0']['dims=50_v2']['modelname'])\n",
    "#m2 = load_model(perfdict_byarch['arch=rnn2_reg=0']['dims=500']['modelname'])\n",
    "\n",
    "m2   = load_model(perfdict_byarch['arch=rnn2_reg=0']['dims=500']['modelname'])\n",
    "m2v2 = load_model(perfdict_byarch['arch=rnn2_reg=0']['dims=500_v2']['modelname'])\n"
   ]
  },
  {
   "cell_type": "code",
   "execution_count": null,
   "metadata": {
    "collapsed": false
   },
   "outputs": [],
   "source": [
    "p1   = m1.predict(trajs_tst)\n",
    "p1v2 = m1v2.predict(trajs_tst)\n",
    "p2   = m2.predict(trajs_tst)\n",
    "p2v2 = m2v2.predict(trajs_tst)\n",
    "#p2 = m2.predict(trajs_tst)"
   ]
  },
  {
   "cell_type": "code",
   "execution_count": null,
   "metadata": {
    "collapsed": false
   },
   "outputs": [],
   "source": [
    "err1 = ((p1 - observable_tst)**2).mean(axis=1).mean(axis=0)[280]\n",
    "err1v2 = (p1v2 - observable_tst[:,:,280][:,:,None]).var()\n",
    "err2 = ((p2 - observable_tst)**2).mean(axis=1).mean(axis=0)[280]\n",
    "err2v2 = (p2v2 - observable_tst[:,:,280][:,:,None]).var()\n",
    "plt.figure(figsize=(10,10))\n",
    "offset=0.5\n",
    "\n",
    "import pandas as pd\n",
    "pd=pd.DataFrame([[50, err1, err1v2],[500,err2,err2v2]], columns=['dim','Global','Goal'])\n",
    "pd = pd.set_index('dim')\n",
    "pd\n",
    "#, index='Dimensions')\n",
    "#print pd\n",
    "with plt.style.context('seaborn-white'):\n",
    "    sns.set(font_scale=3)\n",
    "    pd.plot(kind='bar')\n",
    "    plt.ylabel('Error')\n",
    "    plt.xlabel('Compressed Dimensions')\n",
    "    labels = plt.gca().get_xticklabels()\n",
    "    plt.setp(labels, rotation=0)\n",
    "#    #plt.bar([1,2], [err1[280], err1v2])\n",
    "#    plt.bar([1,2], [err1[280]  , err2[280]], label='Global')\n",
    "#    plt.bar([1+offset,2+offset], [err1v2, err2v2], label='Goal')\n",
    "#    plt.legend()"
   ]
  },
  {
   "cell_type": "code",
   "execution_count": null,
   "metadata": {
    "collapsed": false
   },
   "outputs": [],
   "source": [
    "import matplotlib.cm as cm\n",
    "import matplotlib\n",
    "import seaborn as sns\n",
    "plt.figure(figsize=(10,8))\n",
    "with plt.style.context('seaborn-whitegrid', after_reset=True):\n",
    "    sns.set(font_scale=4)\n",
    "\n",
    "    edgeerrs = ((p1 - observable_tst)**2).mean(axis=1).mean(axis=0)\n",
    "    print np.sort(edgeerrs)[-10:]\n",
    "    print edgeerrs[280]\n",
    "    worstedge = np.argsort(edgeerrs)[-1]\n",
    "    print worstedge\n",
    "    ndx = 300\n",
    "    plt.plot(p1[ndx,:,worstedge], label='Global')\n",
    "    plt.plot(p2[ndx,:,worstedge], label='Goal-focused')\n",
    "    plt.plot(observable_tst[ndx,:,worstedge], label='Actual')\n",
    "    plt.gca().legend(loc='right', bbox_to_anchor=(1.65, .5) )\n",
    "    plt.xlabel('Time')\n",
    "    plt.ylabel('State')\n"
   ]
  },
  {
   "cell_type": "code",
   "execution_count": null,
   "metadata": {
    "collapsed": false
   },
   "outputs": [],
   "source": [
    "from pypower import case300\n",
    "d=case300.case300()\n",
    "bus_idmap = { busid : ix for ix, busid in enumerate(d['bus'][:,0].astype('int')) }\n",
    "edgelist = [(bus_idmap[s], bus_idmap[e]) for s, e in d['branch'][:,0:2].astype('int')]\n",
    "\n",
    "import igraph\n",
    "G=igraph.Graph(edgelist)\n",
    "layout_force = G.layout_kamada_kawai()\n",
    "layout_tree = G.layout_reingold_tilford()\n",
    "color_dict = { 0: 'green', 1: 'blue', 2: 'red' , 3: 'pink', 4: 'cyan'}\n",
    "colors = np.zeros(len(G.vs), dtype='int')\n",
    "for l in d['bus']:\n",
    "    colors[bus_idmap[l[0]]] = int(l[1])\n",
    "colornames = [color_dict[c] for c in colors]"
   ]
  },
  {
   "cell_type": "code",
   "execution_count": null,
   "metadata": {
    "collapsed": true
   },
   "outputs": [],
   "source": [
    "cm=plt.get_cmap('jet')\n",
    "bboxsize=(0,0,300,300)\n",
    "\n",
    "#edgecolor=[cm(c) for c in edgeerrs/edgeerrs.max()]\n",
    "edgecolor = 1\n",
    "igraph.plot(G, layout=layout_force, vertex_size=2,  vertex_color=colornames, vertex_frame_color=colornames, edge_color=edgecolor,\n",
    "           bbox=bboxsize)"
   ]
  },
  {
   "cell_type": "code",
   "execution_count": null,
   "metadata": {
    "collapsed": false
   },
   "outputs": [],
   "source": [
    "n1 = G.neighbors(106)\n",
    "n1 = set(list(n1) + sum([G.neighbors(i) for i in n1], []))\n",
    "n1 = set(list(n1) + sum([G.neighbors(i) for i in n1], []))\n",
    "#n1 = set(list(n1) + sum([G.neighbors(i) for i in n1], []))\n",
    "colornames2 = ['red' if i in n1 else 'blue' for i in range(len(colors))]\n",
    "igraph.plot(G, layout=layout_force, vertex_size=2,  vertex_color=colornames2, vertex_frame_color=colornames2, edge_color=edgecolor,\n",
    "           bbox=bboxsize)\n",
    "print sorted(list(n1))"
   ]
  },
  {
   "cell_type": "code",
   "execution_count": null,
   "metadata": {
    "collapsed": false
   },
   "outputs": [],
   "source": [
    "cmodel = perfdict_byarch['arch=rnn2_invstacked']['dims=3']\n",
    "cmodelobj = load_model(cmodel['modelname'])"
   ]
  },
  {
   "cell_type": "code",
   "execution_count": null,
   "metadata": {
    "collapsed": false
   },
   "outputs": [],
   "source": [
    "print len(cmodelobj.layers)\n",
    "inMx  = cmodelobj.layers[0].get_weights()[0].T\n",
    "outMx = cmodelobj.layers[4].get_weights()[0]\n",
    "\n",
    "plotMx=inMx\n",
    "edgecolor=[color_dict[c] for c in np.argmax(np.abs(plotMx), axis=0)]\n",
    "igraph.plot(G, layout=layout_force, vertex_size=2,  vertex_color=colornames, vertex_frame_color=colornames, edge_color=edgecolor,\n",
    "           bbox=bboxsize)\n"
   ]
  },
  {
   "cell_type": "code",
   "execution_count": null,
   "metadata": {
    "collapsed": false,
    "scrolled": false
   },
   "outputs": [],
   "source": [
    "from IPython.display import display\n",
    "cm=plt.get_cmap('PRGn')\n",
    "#plotMx = outMx\n",
    "plotMx = inMx\n",
    "\n",
    "scale = np.max(np.abs(plotMx))\n",
    "print 'scale', scale\n",
    "for vals in plotMx.copy():\n",
    "    vals /= scale\n",
    "    print len(vals)\n",
    "    vals /= 2\n",
    "    vals /= np.max(np.abs(vals))\n",
    "    #vals = np.zeros(len(edgelist))+.1\n",
    "    vals += 0.5\n",
    "    edgecolor=[cm(c) for c in vals]\n",
    "    #print len(edgecolor)\n",
    "    display(igraph.plot(G, layout=layout_force, vertex_size=2,  \n",
    "                        vertex_color=colornames, vertex_frame_color=colornames, \n",
    "                        edge_width=2, edge_color=edgecolor, bbox=bboxsize))\n"
   ]
  },
  {
   "cell_type": "code",
   "execution_count": null,
   "metadata": {
    "collapsed": false
   },
   "outputs": [],
   "source": [
    "cm=plt.get_cmap('jet')\n",
    "vals  = np.max(np.abs(plotMx), axis=0)\n",
    "vals /= vals.max()\n",
    "\n",
    "print len(vals)\n",
    "edgecolor=[cm(c) for c in vals]\n",
    "#print len(edgecolor)\n",
    "display(igraph.plot(G, layout=layout_tree, vertex_size=2,  \n",
    "                    vertex_color=colornames, vertex_frame_color=colornames, \n",
    "                    edge_width=2, edge_color=edgecolor, bbox=bboxsize))\n"
   ]
  },
  {
   "cell_type": "code",
   "execution_count": null,
   "metadata": {
    "collapsed": false
   },
   "outputs": [],
   "source": [
    "igraph.plot(G, layout=layout_tree, vertex_size=2,  vertex_color=colornames, vertex_frame_color=colornames,\n",
    "           bbox=np.array(bboxsize)*.7)\n"
   ]
  }
 ],
 "metadata": {
  "kernelspec": {
   "display_name": "Python 2",
   "language": "python",
   "name": "python2"
  },
  "language_info": {
   "codemirror_mode": {
    "name": "ipython",
    "version": 2
   },
   "file_extension": ".py",
   "mimetype": "text/x-python",
   "name": "python",
   "nbconvert_exporter": "python",
   "pygments_lexer": "ipython2",
   "version": "2.7.11"
  }
 },
 "nbformat": 4,
 "nbformat_minor": 0
}
